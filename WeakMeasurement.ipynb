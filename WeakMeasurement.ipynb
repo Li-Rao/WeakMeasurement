{
 "cells": [
  {
   "cell_type": "code",
   "execution_count": null,
   "metadata": {},
   "outputs": [],
   "source": [
    "print(1)\n",
    "from qiskit.quantum_info import Statevector, Pauli\n",
    "from qiskit.circuit.library import HamiltonianGate, HGate\n",
    "from qiskit.quantum_info import SparsePauliOp\n",
    "import numpy as np\n",
    "import matplotlib as mpl\n",
    "import matplotlib.pyplot as plt\n",
    "from pathos.multiprocessing import ProcessingPool\n",
    "from functools import partial\n",
    "import multiprocessing"
   ]
  },
  {
   "cell_type": "code",
   "execution_count": null,
   "metadata": {},
   "outputs": [],
   "source": [
    "print(2)\n",
    "HO=1/np.sqrt(2)*np.array([[1.0, 1.0],[1.0,-1.0]])\n",
    "UO=1/np.sqrt(2)*np.array([[1.0, 0-1.0j],[1,0+1.0j]])"
   ]
  },
  {
   "cell_type": "code",
   "execution_count": null,
   "metadata": {},
   "outputs": [],
   "source": [
    "print(3)\n",
    "def init(N):\n",
    "    stavec = Statevector.from_int(0,2**(N+1))\n",
    "    for i in range(N+1):\n",
    "        stavec= stavec.evolve(HO,[i])\n",
    "    return stavec\n",
    "\n",
    "\n",
    "def measure_reset(sv):\n",
    "    sv = sv.evolve(UO,[0])\n",
    "    meas,sv = sv.measure([0])\n",
    "    sv=sv.reset([0])\n",
    "    sv=sv.evolve(HO,[0])\n",
    "    return sv"
   ]
  },
  {
   "cell_type": "code",
   "execution_count": null,
   "metadata": {},
   "outputs": [],
   "source": [
    "print(4)\n",
    "def evol_ZZ(sv,U1):\n",
    "    N = sv.num_qubits-1\n",
    "    for i in range(N):\n",
    "        sv=sv.evolve(U1,[0,i+1,(i+1)% N + 1])\n",
    "        sv = measure_reset(sv)\n",
    "    sv = measure_reset(sv)\n",
    "    return sv\n",
    "\n",
    "def evol_X(sv,U2):\n",
    "    N = sv.num_qubits-1\n",
    "    for i in range(1,N+1):\n",
    "        sv=sv.evolve(U2,[i,0])\n",
    "        sv = measure_reset(sv)\n",
    "    return sv "
   ]
  },
  {
   "cell_type": "code",
   "execution_count": null,
   "metadata": {},
   "outputs": [],
   "source": [
    "print(5)\n",
    "def Get_ExpectValue_ZZ(sv,N):\n",
    "    EV_list=[]\n",
    "    for i in range(int(N/2)):\n",
    "        EV=[]\n",
    "        for j in range(N):\n",
    "            EV.append(np.real(sv.expectation_value(Pauli('ZZ'),[j+1,(j+1+i)%N+1])) ** 2)\n",
    "        EV_list.append(np.average(EV))\n",
    "    return EV_list"
   ]
  },
  {
   "cell_type": "code",
   "execution_count": null,
   "metadata": {},
   "outputs": [],
   "source": [
    "print(6)\n",
    "def Run_ZZX(Num_qubits,X_time,ZZ_time,Sample,Depth):\n",
    "    N = Num_qubits\n",
    "    t1 = ZZ_time\n",
    "    t2 = X_time\n",
    "    U1 = HamiltonianGate(Pauli('ZZZ'),t1)\n",
    "    U2 = HamiltonianGate(Pauli('ZX'),t2)\n",
    "    EV_Sams=[]\n",
    "    for i in range(Sample):\n",
    "        sv=init(N)\n",
    "        EV_Sam=[]\n",
    "        for j in range(Depth):\n",
    "            sv=evol_ZZ(sv,U1)\n",
    "            sv=evol_X(sv,U2)\n",
    "            EV_Sam.append(Get_ExpectValue_ZZ(sv,N))\n",
    "        EV_Sams.append(EV_Sam)\n",
    "    EV_Ave = np.sum(EV_Sams,axis=0) / Sample\n",
    "#    print(EV_Ave)\n",
    "    name = \"EV_Data/EV_Crit/\"+\"ZZX_EV\"+\"+\"+str(N)+ \"+\" + str(t1) + \"+\" + str(t2) + \".npy\" \n",
    "    np.save(name,EV_Ave)"
   ]
  },
  {
   "cell_type": "code",
   "execution_count": 10,
   "metadata": {},
   "outputs": [
    {
     "name": "stdout",
     "output_type": "stream",
     "text": [
      "7\n",
      "[4, 4, 4, 4, 4, 4, 6, 6, 6, 6, 6, 6, 8, 8, 8, 8, 8, 8, 10, 10, 10, 10, 10, 10, 12, 12, 12, 12, 12, 12]\n",
      "(30,)\n"
     ]
    }
   ],
   "source": [
    "print(7)\n",
    "a=[4,6,8,10,12]\n",
    "b=[0.095,0.097,0.099,0.101,0.103,0.105]\n",
    "\n",
    "Num_qubits=[]\n",
    "X_time=[]\n",
    "\n",
    "for i in range(5):\n",
    "    for j in range(6):\n",
    "        Num_qubits.append(a[i])\n",
    "        X_time.append(b[j])\n",
    "print(Num_qubits)\n",
    "print(np.shape(X_time))"
   ]
  },
  {
   "cell_type": "code",
   "execution_count": null,
   "metadata": {},
   "outputs": [],
   "source": [
    "print(8)\n",
    "if __name__=='__main__':\n",
    "    Partial_Run0=partial(Run_ZZX,Sample=1000,Depth=50)\n",
    "    Partial_Run=partial(Partial_Run0,ZZ_time=0.1)\n",
    "    pool = ProcessingPool(multiprocessing.cpu_count())\n",
    "    pool.map(Partial_Run, Num_qubits, X_time)\n",
    "    pool.join()\n",
    "    pool.close()"
   ]
  }
 ],
 "metadata": {
  "kernelspec": {
   "display_name": "Python_QC",
   "language": "python",
   "name": "python3"
  },
  "language_info": {
   "codemirror_mode": {
    "name": "ipython",
    "version": 3
   },
   "file_extension": ".py",
   "mimetype": "text/x-python",
   "name": "python",
   "nbconvert_exporter": "python",
   "pygments_lexer": "ipython3",
   "version": "3.12.3"
  }
 },
 "nbformat": 4,
 "nbformat_minor": 2
}
